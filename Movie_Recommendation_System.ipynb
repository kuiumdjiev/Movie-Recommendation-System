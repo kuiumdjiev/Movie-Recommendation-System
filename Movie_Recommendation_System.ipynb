{
  "cells": [
    {
      "cell_type": "markdown",
      "metadata": {
        "id": "KDgLeWPYFf7E"
      },
      "source": [
        "# Libraries and packages"
      ]
    },
    {
      "cell_type": "markdown",
      "metadata": {
        "id": "IEryEKXQEMOP"
      },
      "source": [
        "Install packages"
      ]
    },
    {
      "cell_type": "markdown",
      "metadata": {
        "id": "PlCYlWhYOF2U"
      },
      "source": [
        "To start with the project we are going to install the the necessary libraries"
      ]
    },
    {
      "cell_type": "code",
      "execution_count": null,
      "metadata": {
        "colab": {
          "base_uri": "https://localhost:8080/"
        },
        "id": "Z5mOoLAoTpvz",
        "outputId": "492bf96b-c2a2-4e84-9b10-d265f58e27ff"
      },
      "outputs": [],
      "source": [
        "!pip install mlflow\n",
        "!pip install requests\n",
        "!pip install Levenshtein"
      ]
    },
    {
      "cell_type": "markdown",
      "metadata": {
        "id": "xqnwG1dhOF2U"
      },
      "source": [
        "Import libraries"
      ]
    },
    {
      "cell_type": "markdown",
      "metadata": {
        "id": "ZoFLUBLQOF2V"
      },
      "source": [
        "To start with the project we are going to import the the necessary libraries for regular expression, request and json for api extraction, pandas, pylotm, numpy, grid search cv for finding the best hyperparameters for model, train test split, standart scaler for scalling the data, pipeline, mean_absolute_error, mean_squared_error and r2_score for scoring the prediction of the model, ada boost regressior for Train a weak learner on a random subset of the data, and import our models DecisionTreeRegressor, Ridge, Lasso and polynomial regression\n"
      ]
    },
    {
      "cell_type": "code",
      "execution_count": 2,
      "metadata": {
        "id": "PaL-jmO7TKIi"
      },
      "outputs": [],
      "source": [
        "import re\n",
        "\n",
        "import requests\n",
        "import json\n",
        "\n",
        "import pandas as pd\n",
        "import matplotlib.pyplot as plt\n",
        "import numpy as np\n",
        "\n",
        "from sklearn.model_selection import GridSearchCV\n",
        "from sklearn.model_selection import train_test_split\n",
        "\n",
        "from sklearn.preprocessing import StandardScaler\n",
        "\n",
        "from sklearn.pipeline import Pipeline\n",
        "\n",
        "from sklearn.metrics import mean_absolute_error, mean_squared_error, r2_score\n",
        "\n",
        "from sklearn.ensemble import AdaBoostRegressor\n",
        "from sklearn.metrics import jaccard_score\n",
        "from scipy.spatial.distance import pdist, squareform\n",
        "\n",
        "#Import models\n",
        "from sklearn.tree import DecisionTreeRegressor\n",
        "from sklearn.linear_model import Ridge\n",
        "from sklearn.linear_model import Lasso\n",
        "from sklearn.preprocessing import PolynomialFeatures\n",
        "from sklearn.linear_model import LinearRegression\n",
        "\n",
        "import mlflow"
      ]
    },
    {
      "cell_type": "markdown",
      "metadata": {
        "id": "GvS6T0CmOF2V"
      },
      "source": [
        "This cell will be used only when the file is executed through Colab or another similar Jupyter Notebook service."
      ]
    },
    {
      "cell_type": "code",
      "execution_count": null,
      "metadata": {
        "colab": {
          "base_uri": "https://localhost:8080/"
        },
        "id": "MQ0T-FzEoUUH",
        "outputId": "36ca9fb9-2e5c-4396-d273-2060077e4e78"
      },
      "outputs": [],
      "source": [
        "from google.colab import drive\n",
        "drive.mount('/content/drive/')\n",
        "\n",
        "import os\n",
        "path=\"/content/drive/My Drive/Colab Notebooks/\"\n",
        "os.chdir(path)\n",
        "os.listdir(path)"
      ]
    },
    {
      "cell_type": "markdown",
      "metadata": {
        "id": "3m_WAmsOoDNG"
      },
      "source": [
        "# Start/Stop experiment"
      ]
    },
    {
      "cell_type": "markdown",
      "metadata": {
        "id": "TpVRGTa6OF2W"
      },
      "source": [
        "In this is used to stop or start experement in mlflow"
      ]
    },
    {
      "cell_type": "code",
      "execution_count": null,
      "metadata": {
        "colab": {
          "base_uri": "https://localhost:8080/"
        },
        "id": "1B7fnqoZTKIj",
        "outputId": "5719d9af-710b-4d6b-d4c7-3b2aad982d35"
      },
      "outputs": [],
      "source": [
        "experiment_name = 'testing multiple models for regression with half of the users + more attriabutes '\n",
        "mlflow.set_experiment(experiment_name)"
      ]
    },
    {
      "cell_type": "code",
      "execution_count": 37,
      "metadata": {
        "id": "-4kaWJuoTKIk"
      },
      "outputs": [],
      "source": [
        "mlflow.end_run()"
      ]
    },
    {
      "cell_type": "code",
      "execution_count": 39,
      "metadata": {
        "colab": {
          "base_uri": "https://localhost:8080/"
        },
        "id": "cr0JA8j6rEN5",
        "outputId": "8487886c-5c2a-4488-8dc1-88771b81d349"
      },
      "outputs": [
        {
          "data": {
            "text/plain": [
              "<ActiveRun: >"
            ]
          },
          "execution_count": 39,
          "metadata": {},
          "output_type": "execute_result"
        }
      ],
      "source": [
        "mlflow.start_run()"
      ]
    },
    {
      "cell_type": "markdown",
      "metadata": {},
      "source": [
        "# Idea"
      ]
    },
    {
      "cell_type": "markdown",
      "metadata": {
        "id": "Xp8AkQyEOF2X"
      },
      "source": [
        "The idea of my project is to create a movie recommendation system. For it to work, the user needs to have a prior history or select movies they like. The system consists of several parts. The first part is content-based filtering using the 'Jaccard' metric. The second part involves creating a model that takes the characteristics of the movie and user ID as input data, with the output value being the user's rating for the given movie, rounded for model simplicity. The concept is that when the user enters a new favorite movie, similar movies will be retrieved using the 'Jaccard' metric, and the model will provide a probable rating for user liking."
      ]
    },
    {
      "cell_type": "markdown",
      "metadata": {},
      "source": [
        "For the creation of my project, I have decided to use resources from https://grouplens.org/datasets/movielens/20m/.\n",
        "Firstly, let me provide you with information about the dataset. It consists of 20 million ratings given to 27,000 movies by 138,000 users. The files I will be using from the dataset are ratings.csv (user ratings), movies.csv (movie information), and links.csv."
      ]
    },
    {
      "cell_type": "markdown",
      "metadata": {},
      "source": [
        "The file movies.cvs you are given has already been completed thrugh the sections: Movies, One-hot encode, Extract year from the title and Getting more features from tmdb, so you don't need to run them."
      ]
    },
    {
      "cell_type": "markdown",
      "metadata": {
        "id": "kSNy46OOOF2X"
      },
      "source": [
        "# Movies"
      ]
    },
    {
      "cell_type": "markdown",
      "metadata": {
        "id": "rdkvlkjfOF2X"
      },
      "source": [
        "Let's start with the content of movies.csv."
      ]
    },
    {
      "cell_type": "code",
      "execution_count": 3,
      "metadata": {
        "colab": {
          "base_uri": "https://localhost:8080/"
        },
        "id": "Dayv2sdmOF2X",
        "outputId": "c96d48e9-9cc0-4602-99af-c19277064cbe"
      },
      "outputs": [
        {
          "name": "stdout",
          "output_type": "stream",
          "text": [
            "   movieId                               title  \\\n",
            "0        1                    Toy Story (1995)   \n",
            "1        2                      Jumanji (1995)   \n",
            "2        3             Grumpier Old Men (1995)   \n",
            "3        4            Waiting to Exhale (1995)   \n",
            "4        5  Father of the Bride Part II (1995)   \n",
            "\n",
            "                                        genres  \n",
            "0  Adventure|Animation|Children|Comedy|Fantasy  \n",
            "1                   Adventure|Children|Fantasy  \n",
            "2                               Comedy|Romance  \n",
            "3                         Comedy|Drama|Romance  \n",
            "4                                       Comedy  \n"
          ]
        }
      ],
      "source": [
        "movies = pd.read_csv('movies.csv')\n",
        "print(movies.head())"
      ]
    },
    {
      "cell_type": "markdown",
      "metadata": {
        "id": "ZSJA1vXMOF2X"
      },
      "source": [
        "As you can see in the file, we have movieId, which we will use to link to ratings.csv and links.csv, a title that is a combination of the movie title and the release year, and genres. The genres of a movie are concatenated with the '|' symbol, so we will use one-hot encoding."
      ]
    },
    {
      "cell_type": "markdown",
      "metadata": {
        "id": "SOCLVZjoOF2X"
      },
      "source": [
        "# One-hot encode"
      ]
    },
    {
      "cell_type": "markdown",
      "metadata": {
        "id": "SDNH3kYgOF2X"
      },
      "source": [
        "To simplify our work, we will convert the 'genres' column from a string to an array by splitting the genres using the '|' symbol."
      ]
    },
    {
      "cell_type": "code",
      "execution_count": null,
      "metadata": {
        "id": "MBzmqbArOF2X"
      },
      "outputs": [],
      "source": [
        "movies['genres'] = movies['genres'].str.split('|')"
      ]
    },
    {
      "cell_type": "markdown",
      "metadata": {
        "id": "y4JYfYgnOF2Y"
      },
      "source": [
        "First, we will extract all genres in array."
      ]
    },
    {
      "cell_type": "code",
      "execution_count": null,
      "metadata": {
        "id": "qXENhdujOF2Y"
      },
      "outputs": [],
      "source": [
        "all_genres =[]\n",
        "for genres in movies['genres']:\n",
        "    for genre in genres:\n",
        "        if genre not in all_genres:\n",
        "            all_genres.append(genre)"
      ]
    },
    {
      "cell_type": "markdown",
      "metadata": {
        "id": "XQ9EIxXrOF2Y"
      },
      "source": [
        "Second, we will create new columns for the genres."
      ]
    },
    {
      "cell_type": "code",
      "execution_count": null,
      "metadata": {
        "id": "2XjAaEVgOF2Y"
      },
      "outputs": [],
      "source": [
        "genres = pd.DataFrame(columns=all_genres)\n",
        "movies = pd.concat([movies, genres], axis=1)"
      ]
    },
    {
      "cell_type": "markdown",
      "metadata": {
        "id": "aVWCnxIvOF2Y"
      },
      "source": [
        "After that, we will iterate through all movies and mark with 1 where each movie has a specific genre."
      ]
    },
    {
      "cell_type": "code",
      "execution_count": null,
      "metadata": {
        "id": "-tpEenhdOF2Y"
      },
      "outputs": [],
      "source": [
        "for i, row in movies.iterrows():\n",
        "     for genre in row['genres']:\n",
        "          if genre in all_genres:\n",
        "               movies.at[i, genre] = 1\n",
        "movies.fillna(0, inplace=True)"
      ]
    },
    {
      "cell_type": "markdown",
      "metadata": {
        "id": "E7UgZ4tMOF2Y"
      },
      "source": [
        "At the end, we will remove the 'genres' column as it is no longer needed."
      ]
    },
    {
      "cell_type": "code",
      "execution_count": null,
      "metadata": {
        "id": "v-uy5PnAOF2Y"
      },
      "outputs": [],
      "source": [
        "movies.drop('genres', axis=1, inplace=True)"
      ]
    },
    {
      "cell_type": "markdown",
      "metadata": {
        "id": "XVvr1zQAOF2Y"
      },
      "source": [
        "# Extract year from the title"
      ]
    },
    {
      "cell_type": "markdown",
      "metadata": {
        "id": "35iOVMQFOF2Y"
      },
      "source": [
        "The next step is to extract the year from the title. For this purpose, we will use a regular expression."
      ]
    },
    {
      "cell_type": "code",
      "execution_count": null,
      "metadata": {
        "id": "YWmJQvRdOF2Y"
      },
      "outputs": [],
      "source": [
        "years= movies['title'].str.extract(r'\\b(\\d{4})\\b')\n",
        "years.rename(columns={0: \"Year\"}, inplace=True)\n",
        "movies = pd.concat([movies, years], axis=1)"
      ]
    },
    {
      "cell_type": "markdown",
      "metadata": {
        "id": "tSeC4he0OF2Y"
      },
      "source": [
        "# Getting more features from tmdb"
      ]
    },
    {
      "cell_type": "markdown",
      "metadata": {
        "id": "pu6e1a5vOF2Y"
      },
      "source": [
        "To enhance the data for each film, we will utilize the tmdb database."
      ]
    },
    {
      "cell_type": "markdown",
      "metadata": {
        "id": "ILEqDuXaOF2Y"
      },
      "source": [
        "For this purpose, we will first create a method called get_movie_details() that takes the movie ID and returns it's features - popularity, vote_average,vote_count, runtime, revenue, original_language"
      ]
    },
    {
      "cell_type": "code",
      "execution_count": 57,
      "metadata": {
        "id": "oUPqXIVlOF2Y"
      },
      "outputs": [],
      "source": [
        "def get_movie_details(id):\n",
        "  url = 'https://api.themoviedb.org/3/movie/'+id+'?api_key=283affd7bc4e82ee3200dc59e08220f3'\n",
        "  r = requests.get(url)\n",
        "  return r.json()"
      ]
    },
    {
      "cell_type": "markdown",
      "metadata": {
        "id": "H4tnNSlAOF2Y"
      },
      "source": [
        "Before we proceed with that, we will use the 'links.csv' file because the movies in tmdb have different IDs."
      ]
    },
    {
      "cell_type": "code",
      "execution_count": null,
      "metadata": {
        "id": "JnS8LAVbOF2Z"
      },
      "outputs": [],
      "source": [
        "links = pd.read_csv('links.csv')\n",
        "movies = pd.merge(movies,links, on='movieId')"
      ]
    },
    {
      "cell_type": "markdown",
      "metadata": {
        "id": "ebHtF_GMOF2g"
      },
      "source": [
        "Then, we will iterate through all the movies to add the additional features by creating an if statement to check if some movies do not exist in tmdb."
      ]
    },
    {
      "cell_type": "code",
      "execution_count": null,
      "metadata": {
        "id": "RJOEp7xNTHbT"
      },
      "outputs": [],
      "source": [
        "for i in range(0, len(movies) ):\n",
        "  info = get_movie_details(movies.at[i,'tmdbId'].astype('str'))\n",
        "  if 'popularity' in  info:\n",
        "    movies.at[i,'popularity'] = info['popularity']\n",
        "    movies.at[i,'vote_average'] = info['vote_average']\n",
        "    movies.at[i,'vote_count'] = info['vote_count']\n",
        "    movies.at[i,'runtime'] = info['runtime']\n",
        "    movies.at[i,'revenue'] = info['revenue']\n",
        "    movies.at[i,'original_language'] = info['original_language']"
      ]
    },
    {
      "cell_type": "markdown",
      "metadata": {},
      "source": [
        "Now we have 5 extra features."
      ]
    },
    {
      "cell_type": "markdown",
      "metadata": {
        "id": "417WU2CbOF2h"
      },
      "source": [
        "The next step is to remove the movies that do not exist in tmdb."
      ]
    },
    {
      "cell_type": "code",
      "execution_count": null,
      "metadata": {
        "id": "8J0Y_UppOF2h"
      },
      "outputs": [],
      "source": [
        "for i,row in movies.iterrows():\n",
        "  if row.isna().any():\n",
        "    movies.drop(i,inplace=True)"
      ]
    },
    {
      "cell_type": "markdown",
      "metadata": {
        "id": "JnM4E2QPOF2h"
      },
      "source": [
        "After we no longer need the IDs from the links, we can remove them."
      ]
    },
    {
      "cell_type": "code",
      "execution_count": null,
      "metadata": {
        "id": "KEX7R66UOF2h"
      },
      "outputs": [],
      "source": [
        "movies.drop(['imdbId','tmdbId'], axis = 1, inplace =True)"
      ]
    },
    {
      "cell_type": "markdown",
      "metadata": {
        "id": "1mlxIYJ_OF2h"
      },
      "source": [
        "In the end, the 'movies' variable should look like this."
      ]
    },
    {
      "cell_type": "code",
      "execution_count": 135,
      "metadata": {
        "id": "gOTZEG-xOF2h"
      },
      "outputs": [
        {
          "name": "stdout",
          "output_type": "stream",
          "text": [
            "   movieId                               title  Year  Adventure  Animation  \\\n",
            "0        1                    Toy Story (1995)  1995          1          1   \n",
            "1        2                      Jumanji (1995)  1995          1          0   \n",
            "2        3             Grumpier Old Men (1995)  1995          0          0   \n",
            "3        4            Waiting to Exhale (1995)  1995          0          0   \n",
            "4        5  Father of the Bride Part II (1995)  1995          0          0   \n",
            "\n",
            "   Children  Comedy  Fantasy  Romance  Drama  ...  Musical  Western  \\\n",
            "0         1       1        1        0      0  ...        0        0   \n",
            "1         1       0        1        0      0  ...        0        0   \n",
            "2         0       1        0        1      0  ...        0        0   \n",
            "3         0       1        0        1      1  ...        0        0   \n",
            "4         0       1        0        0      0  ...        0        0   \n",
            "\n",
            "   Film-Noir  (no genres listed)  popularity  vote_average  vote_count  \\\n",
            "0          0                   0     116.660         7.970     17352.0   \n",
            "1          0                   0      18.791         7.240      9938.0   \n",
            "2          0                   0      19.909         6.494       353.0   \n",
            "3          0                   0      13.111         6.182       143.0   \n",
            "4          0                   0      18.891         6.240       672.0   \n",
            "\n",
            "   runtime      revenue  language  \n",
            "0     81.0  394400000.0      True  \n",
            "1    104.0  262821940.0      True  \n",
            "2    101.0   71500000.0      True  \n",
            "3    127.0   81452156.0      True  \n",
            "4    106.0   76594107.0      True  \n",
            "\n",
            "[5 rows x 29 columns]\n"
          ]
        }
      ],
      "source": [
        "print(movies.head())"
      ]
    },
    {
      "cell_type": "markdown",
      "metadata": {},
      "source": [
        "After that, we round the popularity and vote_average to 0.5."
      ]
    },
    {
      "cell_type": "code",
      "execution_count": 7,
      "metadata": {
        "id": "fREXWWcnPeze"
      },
      "outputs": [],
      "source": [
        "movies['popularity']= np.round(movies['popularity']*2)/2\n",
        "movies['vote_average']= np.round(movies['vote_average']*2)/2"
      ]
    },
    {
      "cell_type": "markdown",
      "metadata": {},
      "source": [
        "One more thing I want to do is add a column for language, where 1 indicates that the movie is in English, and 0 indicates that it's in another language."
      ]
    },
    {
      "cell_type": "code",
      "execution_count": null,
      "metadata": {},
      "outputs": [],
      "source": [
        "for i in range(0, len(movies) ):\n",
        "    movies.at[i,'language'] = movies.at[i,'original_language'] == 'en'\n",
        "movies.drop('original_language', axis=1, inplace=True)"
      ]
    },
    {
      "cell_type": "markdown",
      "metadata": {
        "id": "DCOokseoOF2h"
      },
      "source": [
        "Finally, we save the 'movies' variable to avoid repeated extractions through the API."
      ]
    },
    {
      "cell_type": "code",
      "execution_count": 84,
      "metadata": {
        "id": "ky7NBnLTOF2h"
      },
      "outputs": [],
      "source": [
        "movies.to_csv('movies.csv', index=False)"
      ]
    },
    {
      "cell_type": "markdown",
      "metadata": {
        "id": "Z0TPXqiiOF2h"
      },
      "source": [
        "# Ratings"
      ]
    },
    {
      "cell_type": "markdown",
      "metadata": {
        "id": "GztDAON9OF2h"
      },
      "source": [
        "The other file that will be necessary for us is 'ratings.csv'."
      ]
    },
    {
      "cell_type": "code",
      "execution_count": 4,
      "metadata": {
        "colab": {
          "base_uri": "https://localhost:8080/"
        },
        "id": "BdvkEVQ7OF2h",
        "outputId": "c9fb694f-c795-42ad-d2c6-aa657bb1a2a6"
      },
      "outputs": [
        {
          "name": "stdout",
          "output_type": "stream",
          "text": [
            "   userId  movieId  raw_ratings   timestamp\n",
            "0       1        2          3.5  1112486027\n",
            "1       1       29          3.5  1112484676\n",
            "2       1       32          3.5  1112484819\n",
            "3       1       47          3.5  1112484727\n",
            "4       1       50          3.5  1112484580\n"
          ]
        }
      ],
      "source": [
        "ratings = pd.read_csv('ratings.csv')\n",
        "print(ratings.head())"
      ]
    },
    {
      "cell_type": "markdown",
      "metadata": {
        "id": "av3dqTLfOF2i"
      },
      "source": [
        "As you can see, the 'ratings.csv' file consists of userId, movieId, and timestamp."
      ]
    },
    {
      "cell_type": "markdown",
      "metadata": {
        "id": "McREYwh6OF2i"
      },
      "source": [
        "Next, we will remove the 'timestamp' column from the ratings since it is not needed."
      ]
    },
    {
      "cell_type": "code",
      "execution_count": 5,
      "metadata": {
        "id": "O0UHslGhOF2i"
      },
      "outputs": [],
      "source": [
        "ratings.drop('timestamp', axis=1, inplace=True)"
      ]
    },
    {
      "cell_type": "markdown",
      "metadata": {
        "id": "V6m9VT7dRLg0"
      },
      "source": [
        "Finally, we round the ratings to facilitate the model."
      ]
    },
    {
      "cell_type": "code",
      "execution_count": 92,
      "metadata": {
        "colab": {
          "base_uri": "https://localhost:8080/"
        },
        "id": "4OVhQ9k5RE9c",
        "outputId": "424e7de6-260a-4eb8-b729-55c508874fe9"
      },
      "outputs": [
        {
          "data": {
            "text/plain": [
              "0          4.0\n",
              "1          4.0\n",
              "2          4.0\n",
              "3          4.0\n",
              "4          4.0\n",
              "          ... \n",
              "1048570    5.0\n",
              "1048571    4.0\n",
              "1048572    5.0\n",
              "1048573    4.0\n",
              "1048574    4.0\n",
              "Name: raw_ratings, Length: 1048575, dtype: float64"
            ]
          },
          "execution_count": 92,
          "metadata": {},
          "output_type": "execute_result"
        }
      ],
      "source": [
        "ratings['raw_ratings'].apply(np.ceil)"
      ]
    },
    {
      "cell_type": "markdown",
      "metadata": {
        "id": "ehI9H7JgOF2i"
      },
      "source": [
        "# Content recommendation system"
      ]
    },
    {
      "cell_type": "markdown",
      "metadata": {
        "id": "x4MBG2N5OF2i"
      },
      "source": [
        "The next part of the project is to build a recommendation system based on the features of the movies."
      ]
    },
    {
      "cell_type": "markdown",
      "metadata": {
        "id": "kOIfiAAjOF2i"
      },
      "source": [
        "For these purpose i have decided to use this metric 'jacard'. First of all let me explain how it operates. The metric works by taking two movies and afterwards it returns a value. These said value can be between 0 and 1, where 1 means that the films completly diffrent and 0 meaning that they are same. The value is being calculated by taking the amount of simularities and deviding that number by odd the elements in the metric"
      ]
    },
    {
      "cell_type": "code",
      "execution_count": 122,
      "metadata": {
        "id": "Jc8ItnsnOF2i"
      },
      "outputs": [],
      "source": [
        "recommended_movies = movies.drop(['title', 'movieId', 'popularity', 'vote_average','vote_count','revenue'], axis=1)\n",
        "recommended_movies.iloc[:,0:] = recommended_movies.iloc[:,0:].astype('float')\n",
        "\n",
        "jaccard_distances = pdist(recommended_movies.values, metric='jaccard')"
      ]
    },
    {
      "cell_type": "markdown",
      "metadata": {
        "id": "jFQjcauNOF2i"
      },
      "source": [
        "Then, we convert the differences into similarities and create a matrix."
      ]
    },
    {
      "cell_type": "code",
      "execution_count": 123,
      "metadata": {
        "id": "AtLsmUKYOF2i"
      },
      "outputs": [],
      "source": [
        "jaccard_similarity_array = 1 - squareform(jaccard_distances)\n",
        "jaccard_similarity_df = pd.DataFrame(jaccard_similarity_array, index=recommended_movies.index, columns=recommended_movies.index)"
      ]
    },
    {
      "cell_type": "markdown",
      "metadata": {
        "id": "uOoVy5reOF2i"
      },
      "source": [
        "This is how our dataframe should look like."
      ]
    },
    {
      "cell_type": "code",
      "execution_count": 124,
      "metadata": {
        "id": "aUWbmz_eOF2i"
      },
      "outputs": [
        {
          "name": "stdout",
          "output_type": "stream",
          "text": [
            "      0         1         2         3         4         5         6      \\\n",
            "0  1.000000  0.625000  0.333333  0.300000  0.375000  0.181818  0.333333   \n",
            "1  0.625000  1.000000  0.250000  0.222222  0.285714  0.222222  0.250000   \n",
            "2  0.333333  0.250000  1.000000  0.666667  0.600000  0.250000  0.800000   \n",
            "3  0.300000  0.222222  0.666667  1.000000  0.500000  0.222222  0.833333   \n",
            "4  0.375000  0.285714  0.600000  0.500000  1.000000  0.285714  0.600000   \n",
            "\n",
            "      7         8         9      ...     26731     26732     26733     26734  \\\n",
            "0  0.500000  0.222222  0.300000  ...  0.111111  0.250000  0.750000  0.125000   \n",
            "1  0.666667  0.285714  0.375000  ...  0.000000  0.000000  0.500000  0.000000   \n",
            "2  0.285714  0.333333  0.250000  ...  0.400000  0.166667  0.222222  0.200000   \n",
            "3  0.250000  0.285714  0.222222  ...  0.333333  0.142857  0.200000  0.166667   \n",
            "4  0.333333  0.400000  0.285714  ...  0.200000  0.200000  0.250000  0.250000   \n",
            "\n",
            "      26735     26736     26737     26738  26739     26740  \n",
            "0  0.111111  0.125000  0.125000  0.125000    0.0  0.333333  \n",
            "1  0.000000  0.000000  0.000000  0.166667    0.0  0.428571  \n",
            "2  0.166667  0.200000  0.200000  0.000000    0.0  0.125000  \n",
            "3  0.142857  0.166667  0.166667  0.000000    0.0  0.111111  \n",
            "4  0.200000  0.250000  0.250000  0.000000    0.0  0.142857  \n",
            "\n",
            "[5 rows x 26741 columns]\n"
          ]
        }
      ],
      "source": [
        "print(jaccard_similarity_df.head())"
      ]
    },
    {
      "cell_type": "markdown",
      "metadata": {
        "id": "281oWnCfOF2i"
      },
      "source": [
        "# Prepare data for the model"
      ]
    },
    {
      "cell_type": "markdown",
      "metadata": {
        "id": "Y7ODrL-jOF2i"
      },
      "source": [
        "First, we need to create the data that we will use for the model."
      ]
    },
    {
      "cell_type": "code",
      "execution_count": 25,
      "metadata": {
        "id": "c8PCMMuQOF2j"
      },
      "outputs": [],
      "source": [
        "data = pd.merge(ratings, movies, on='movieId')\n",
        "data.drop('title', axis=1, inplace=True)"
      ]
    },
    {
      "cell_type": "markdown",
      "metadata": {
        "id": "NEoccJ57OF2j"
      },
      "source": [
        "This is how the data should look like."
      ]
    },
    {
      "cell_type": "code",
      "execution_count": 26,
      "metadata": {
        "colab": {
          "base_uri": "https://localhost:8080/"
        },
        "id": "46IyUV7eOF2j",
        "outputId": "b0de05aa-3945-43a9-cdf4-1af56a498610"
      },
      "outputs": [
        {
          "name": "stdout",
          "output_type": "stream",
          "text": [
            "   userId  movieId  raw_ratings  Year  Adventure  Animation  Children  Comedy  \\\n",
            "0       1        2          3.5  1995          1          0         1       0   \n",
            "1       5        2          3.0  1995          1          0         1       0   \n",
            "2      13        2          3.0  1995          1          0         1       0   \n",
            "3      29        2          3.0  1995          1          0         1       0   \n",
            "4      34        2          3.0  1995          1          0         1       0   \n",
            "\n",
            "   Fantasy  Romance  ...  Musical  Western  Film-Noir  (no genres listed)  \\\n",
            "0        1        0  ...        0        0          0                   0   \n",
            "1        1        0  ...        0        0          0                   0   \n",
            "2        1        0  ...        0        0          0                   0   \n",
            "3        1        0  ...        0        0          0                   0   \n",
            "4        1        0  ...        0        0          0                   0   \n",
            "\n",
            "   popularity  vote_average  vote_count  runtime      revenue  language  \n",
            "0      18.791          7.24      9938.0    104.0  262821940.0      True  \n",
            "1      18.791          7.24      9938.0    104.0  262821940.0      True  \n",
            "2      18.791          7.24      9938.0    104.0  262821940.0      True  \n",
            "3      18.791          7.24      9938.0    104.0  262821940.0      True  \n",
            "4      18.791          7.24      9938.0    104.0  262821940.0      True  \n",
            "\n",
            "[5 rows x 30 columns]\n"
          ]
        }
      ],
      "source": [
        "print(data.head())"
      ]
    },
    {
      "cell_type": "markdown",
      "metadata": {
        "id": "6C-ULoJROF2j"
      },
      "source": [
        "We will reduce the number of users for testing the model because testing on all data would take time."
      ]
    },
    {
      "cell_type": "code",
      "execution_count": 51,
      "metadata": {
        "colab": {
          "base_uri": "https://localhost:8080/"
        },
        "id": "DUZT1p8_OF2j",
        "outputId": "6beb4c29-e6d0-4513-b7ae-9d622bd32601"
      },
      "outputs": [],
      "source": [
        "users =data[(data['userId'] >=1) & (data['userId']<=80000)]\n",
        "x = users\n",
        "y = users.raw_ratings.astype('float')\n",
        "x.drop('raw_ratings', axis=1, inplace=True)\n",
        "x.drop('movieId', axis=1, inplace=True)"
      ]
    },
    {
      "cell_type": "markdown",
      "metadata": {
        "id": "7WnKrQ6IOF2j"
      },
      "source": [
        "Then, we will split the data into two parts - training data and testing data."
      ]
    },
    {
      "cell_type": "code",
      "execution_count": 127,
      "metadata": {
        "id": "iZipUpZ_OF2j"
      },
      "outputs": [],
      "source": [
        "train_x, test_x, train_y, test_y = train_test_split(x, y, test_size=0.01,shuffle=True)\n",
        "standard_scaler = StandardScaler()\n",
        "standart_scaler_train_x, standart_scaler_test_x, standart_scaler_train_y, standart_scaler_test_y = train_test_split(standard_scaler.fit_transform(x), y, test_size=0.01,shuffle=True)\n",
        "polynomial_scaler = PolynomialFeatures()\n",
        "polynomial_scaler_train_x, polynomial_scaler_test_x, polynomial_scaler_train_y, polynomial_scaler_test_y = train_test_split(polynomial_scaler.fit_transform(x), y, test_size=0.01,shuffle=True)"
      ]
    },
    {
      "cell_type": "markdown",
      "metadata": {
        "id": "uCrVmIzROF2j"
      },
      "source": [
        "# Models"
      ]
    },
    {
      "cell_type": "markdown",
      "metadata": {
        "id": "Cg4KHshdOF2j"
      },
      "source": [
        "Now, we will explore all models and choose the best one along with their hyperparameters"
      ]
    },
    {
      "cell_type": "markdown",
      "metadata": {
        "id": "SxO20nsnOF2j"
      },
      "source": [
        "The first model we will try is Decision Trees with and without scaled data. The chosen hyperparameters include:\n",
        "\n",
        "max_depth - maximum depth\n",
        "\n",
        "min_samples_split - specifies the minimum number of samples required to split an internal node. In other words, if a node in the tree contains fewer samples than min_samples_split, the algorithm will not attempt to split that node any further. This can help to prevent overfitting by ensuring that the model does not learn to perfectly predict the training data, at the expense of its ability to generalize to new data."
      ]
    },
    {
      "cell_type": "code",
      "execution_count": 137,
      "metadata": {
        "colab": {
          "base_uri": "https://localhost:8080/"
        },
        "id": "_4mOg-cFOF2j",
        "outputId": "9f05f6eb-bd4f-4014-d54a-66cd01d9ddf0"
      },
      "outputs": [
        {
          "name": "stdout",
          "output_type": "stream",
          "text": [
            "{'max_depth': 14, 'min_samples_split': 900}\n",
            "MAE: 0.75\n",
            "RMSE: 1.01\n",
            "R-squared: 0.11\n"
          ]
        }
      ],
      "source": [
        "parameters= {\n",
        "    'max_depth': [10,11,12,13,14,15,None],\n",
        "    'min_samples_split': [100,200,300,400,500,600,700,800,900,1000],\n",
        "}\n",
        "cv = GridSearchCV(DecisionTreeRegressor(), parameters,cv=3,n_jobs=7)\n",
        "cv.fit(train_x, train_y)\n",
        "\n",
        "print(cv.best_params_)\n",
        "\n",
        "\n",
        "mae = mean_absolute_error(test_y, np.ceil(cv.predict(test_x)*2)/2)\n",
        "rmse = mean_squared_error(test_y,np.ceil( cv.predict(test_x)*2)/2, squared=False)\n",
        "r2 = r2_score(test_y, np.ceil(cv.predict(test_x)*2)/2)\n",
        "\n",
        "\n",
        "mlflow.log_param(\"best_params-Decision trees-19-without scaled data\", cv.best_params_)\n",
        "mlflow.log_metric(\"MAE-Decision trees-19-without scaled data\", mae)\n",
        "mlflow.log_param(\"RMSE-Decision trees-19-without scaled data\", rmse)\n",
        "mlflow.log_param(\"R-squared-Decision trees-19-without scaled data\", r2)\n",
        "print(f'MAE: {mae:.2f}')\n",
        "print(f'RMSE: {rmse:.2f}')\n",
        "print(f'R-squared: {r2:.2f}')"
      ]
    },
    {
      "cell_type": "code",
      "execution_count": null,
      "metadata": {
        "colab": {
          "base_uri": "https://localhost:8080/"
        },
        "id": "NkdjlxB0OF2j",
        "outputId": "775a8e54-e470-468e-bf40-aea025e71856"
      },
      "outputs": [
        {
          "name": "stdout",
          "output_type": "stream",
          "text": [
            "{'dtr__criterion': 'friedman_mse', 'dtr__max_depth': 10}\n",
            "MAE: 0.76\n",
            "RMSE: 0.98\n",
            "R-squared: 0.19\n"
          ]
        }
      ],
      "source": [
        "pipeline = Pipeline( [('scaler', StandardScaler()),\n",
        "        ('dtr', DecisionTreeRegressor())])\n",
        "\n",
        "parameters= {\n",
        "    'dtr__criterion': ['squared_error', 'friedman_mse', 'absolute_error', ],\n",
        "    'dtr__max_depth': [1,5,10,20,30,40,50]\n",
        "}\n",
        "cv = GridSearchCV(pipeline, parameters, scoring= 'neg_root_mean_squared_error',cv=3,n_jobs=7)\n",
        "cv.fit(train_x, train_y)\n",
        "\n",
        "print(cv.best_params_)\n",
        "\n",
        "\n",
        "mae = mean_absolute_error(test_y, cv.predict(standart_scaler_test_x))\n",
        "rmse = mean_squared_error(test_y, cv.predict(standart_scaler_test_x), squared=False)\n",
        "r2 = r2_score(test_y, cv.predict(standart_scaler_test_x))\n",
        "\n",
        "\n",
        "mlflow.log_param(\"best_params-Decision trees-7-with scaled data\", cv.best_params_)\n",
        "mlflow.log_metric(\"MAE-Decision trees-7-with scaled data\", mae)\n",
        "mlflow.log_param(\"RMSE-Decision trees-7-with scaled data\", rmse)\n",
        "mlflow.log_param(\"R-squared-Decision trees-7-with scaled data\", r2)\n",
        "print(f'MAE: {mae:.2f}')\n",
        "print(f'RMSE: {rmse:.2f}')\n",
        "print(f'R-squared: {r2:.2f}')"
      ]
    },
    {
      "cell_type": "markdown",
      "metadata": {
        "id": "qFSNACTvOF2j"
      },
      "source": [
        "Second i would test linearSVR(), which requires scaled data. This is the only model I trained with less data because it takes more than 24 hours to compute.  For hyper parameters I have chosen:\n",
        "\n",
        "C - this is the parameter for regularization - the higher the value, the bigger the regularization\n",
        "Еpsilon - this is the sensitivity parameter to deviations - the larger it's value, the less sensitive the model will be\n",
        "Loss - this parameter determines the loss function - 'squared_epsilon_insensitive', a modified version where errors smaller than epsilon are ignored, but errors larger than epsilon are raised to the power of 2 (squared) and 'epsilon_insensitive', where errors are smaller than a specified value of epsilon are ignored"
      ]
    },
    {
      "cell_type": "code",
      "execution_count": null,
      "metadata": {
        "colab": {
          "base_uri": "https://localhost:8080/"
        },
        "id": "J7FaX6SVJJf4",
        "outputId": "0f5473d1-3793-481d-c295-afd0fe275765"
      },
      "outputs": [
        {
          "name": "stdout",
          "output_type": "stream",
          "text": [
            "MAE: 0.78\n",
            "RMSE: 0.99\n",
            "R-squared: 0.17\n"
          ]
        }
      ],
      "source": [
        "pipeline = Pipeline( [('scaler', StandardScaler()),\n",
        "        ('svr', LinearSVR())])\n",
        "\n",
        "parameters= {\n",
        "    'svr__C': [0.1,0.3,0.5,0.7,0.9, 1],\n",
        "    'svr__epsilon': [0.1, 0.2, 0.3, 0.4, 0.5],\n",
        "    'svr__loss':['squared_epsilon_insensitive','epsilon_insensitive']\n",
        "}\n",
        "\n",
        "cv = GridSearchCV( pipeline, parameters, scoring= 'neg_root_mean_squared_error',cv=3,n_jobs=8)\n",
        "cv.fit(train_x, train_y)\n",
        "\n",
        "svr_mae = mean_absolute_error(test_y, cv.predict(standart_scaler_test_x))\n",
        "svr_rmse = mean_squared_error(test_y, cv.predict(standart_scaler_test_x), squared=False)\n",
        "svr_r2 = r2_score(test_y, cv.predict(standart_scaler_test_x))\n",
        "\n",
        "print(cv.best_params_)\n",
        "\n",
        "mlflow.log_param(\"best_params - Linear SVR-6\", cv.best_params_)\n",
        "mlflow.log_metric(\"MAE-Linear SVR-6\", svr_mae)\n",
        "mlflow.log_param(\"RMSE-Linear SVR-6\", svr_rmse)\n",
        "mlflow.log_param(\"R-squared-Linear SVR-6\", svr_r2)\n",
        "\n",
        "print(f'MAE: {svr_mae:.2f}')\n",
        "print(f'RMSE: {svr_rmse:.2f}')\n",
        "print(f'R-squared: {svr_r2:.2f}')"
      ]
    },
    {
      "cell_type": "code",
      "execution_count": null,
      "metadata": {
        "colab": {
          "base_uri": "https://localhost:8080/"
        },
        "id": "gxzGKu6PJVJz",
        "outputId": "5e117272-2891-4ae2-b546-dc058239c682"
      },
      "outputs": [
        {
          "name": "stdout",
          "output_type": "stream",
          "text": [
            "{'svr__C': 0.1, 'svr__epsilon': 0.1, 'svr__loss': 'squared_epsilon_insensitive'}\n"
          ]
        }
      ],
      "source": [
        "print(cv.best_params_)"
      ]
    },
    {
      "cell_type": "markdown",
      "metadata": {
        "id": "zYbDxry8OF2j"
      },
      "source": [
        "Ridge\n",
        "\n",
        "alpha - determines the regularization - the higher the value, the stronger the regularization."
      ]
    },
    {
      "cell_type": "code",
      "execution_count": 79,
      "metadata": {
        "colab": {
          "base_uri": "https://localhost:8080/"
        },
        "id": "AteAGDTlOF2k",
        "outputId": "2271764e-13bb-4fea-dcfa-ed59d9351579"
      },
      "outputs": [
        {
          "name": "stdout",
          "output_type": "stream",
          "text": [
            "{'r__alpha': 0.9, 'r__solver': 'sag'}\n",
            "MAE: 0.84\n",
            "RMSE: 1.05\n",
            "R-squared: -0.00\n"
          ]
        }
      ],
      "source": [
        "pipeline = Pipeline( [('scaler', StandardScaler()),\n",
        "        ('r', Ridge())])\n",
        "\n",
        "parameters= {\n",
        "    'r__solver': ['sag','saga'],\n",
        "    'r__alpha':[0.1, 0.3, 0.5, 0.7, 0.9]\n",
        "}\n",
        "\n",
        "cv = GridSearchCV( pipeline, parameters, scoring= 'neg_root_mean_squared_error',cv=3,n_jobs=8)\n",
        "cv.fit(standart_scaler_train_x, train_y)\n",
        "\n",
        "ridge_mae = mean_absolute_error(test_y, cv.predict(standart_scaler_test_x))\n",
        "ridge_rmse = mean_squared_error(test_y, cv.predict(standart_scaler_test_x), squared=False)\n",
        "ridge_r2 = r2_score(test_y, cv.predict(standart_scaler_test_x))\n",
        "\n",
        "print(cv.best_params_)\n",
        "\n",
        "mlflow.log_param(\"best_params-ridge-6-with scalled data\", cv.best_params_)\n",
        "mlflow.log_metric(\"MAE-ridge-6-with scalled data\", ridge_mae)\n",
        "mlflow.log_param(\"RMSE-ridge-6-with scalled data\", ridge_rmse)\n",
        "mlflow.log_param(\"R-squared-ridge-6-with scalled data\", ridge_r2)\n",
        "\n",
        "print(f'MAE: {ridge_mae:.2f}')\n",
        "print(f'RMSE: {ridge_rmse:.2f}')\n",
        "print(f'R-squared: {ridge_r2:.2f}')"
      ]
    },
    {
      "cell_type": "code",
      "execution_count": 98,
      "metadata": {
        "colab": {
          "base_uri": "https://localhost:8080/"
        },
        "id": "IP0wPw5UOF2k",
        "outputId": "87f3eac4-73ab-4f4f-c31e-458981e2a77a"
      },
      "outputs": [
        {
          "name": "stdout",
          "output_type": "stream",
          "text": [
            "{'alpha': 0.3, 'solver': 'sag'}\n",
            "MAE: 0.84\n",
            "RMSE: 1.05\n",
            "R-squared: 0.00\n"
          ]
        },
        {
          "name": "stderr",
          "output_type": "stream",
          "text": [
            "c:\\Users\\Stefan\\AppData\\Local\\Programs\\Python\\Python311\\Lib\\site-packages\\sklearn\\linear_model\\_sag.py:350: ConvergenceWarning: The max_iter was reached which means the coef_ did not converge\n",
            "  warnings.warn(\n"
          ]
        }
      ],
      "source": [
        "parameters= {\n",
        "    'solver': ['sag','saga'],\n",
        "    'alpha':[0.1, 0.3, 0.5, 0.7, 0.9]\n",
        "}\n",
        "\n",
        "cv = GridSearchCV( Ridge(), parameters, scoring= 'neg_root_mean_squared_error',cv=3,n_jobs=8)\n",
        "cv.fit(train_x, train_y)\n",
        "\n",
        "ridge_mae = mean_absolute_error(test_y, cv.predict(test_x))\n",
        "ridge_rmse = mean_squared_error(test_y, cv.predict(test_x), squared=False)\n",
        "ridge_r2 = r2_score(test_y, cv.predict(test_x))\n",
        "\n",
        "print(cv.best_params_)\n",
        "\n",
        "mlflow.log_param(\"best_params-ridge-5\", cv.best_params_)\n",
        "mlflow.log_metric(\"MAE-ridge-5\", ridge_mae)\n",
        "mlflow.log_param(\"RMSE-ridge-5\", ridge_rmse)\n",
        "mlflow.log_param(\"R-squared-ridge-5\", ridge_r2)\n",
        "\n",
        "print(f'MAE: {ridge_mae:.2f}')\n",
        "print(f'RMSE: {ridge_rmse:.2f}')\n",
        "print(f'R-squared: {ridge_r2:.2f}')"
      ]
    },
    {
      "cell_type": "markdown",
      "metadata": {
        "id": "cE46DBz_OF2k"
      },
      "source": [
        "Lasso with and without scaled data. The chosen hyperparameter is:\n",
        "\n",
        "alpha - determines the regularization - the higher the value, the stronger the regularization"
      ]
    },
    {
      "cell_type": "code",
      "execution_count": 76,
      "metadata": {
        "colab": {
          "base_uri": "https://localhost:8080/"
        },
        "id": "GrE_oGbHOF2k",
        "outputId": "7decfc8e-7f98-468c-e3f6-9da02e5b04e5"
      },
      "outputs": [
        {
          "name": "stdout",
          "output_type": "stream",
          "text": [
            "{'l__alpha': 0.1}\n",
            "MAE: 0.84\n",
            "RMSE: 1.05\n",
            "R-squared: -0.00\n"
          ]
        }
      ],
      "source": [
        "parameters_for_sage= {\n",
        "    'alpha':[0.1,0.3,0.5,0.7,0.9]\n",
        "}\n",
        "\n",
        "cv = GridSearchCV( Lasso, parameters_for_sage,scoring='max_error',cv=3,n_jobs=8)\n",
        "cv.fit(standart_scaler_train_x, train_y)\n",
        "\n",
        "lasso_mae = mean_absolute_error(test_y, cv.predict(standart_scaler_test_x))\n",
        "lasso_rmse = mean_squared_error(test_y, cv.predict(standart_scaler_test_x), squared=False)\n",
        "lasso_r2 = r2_score(test_y, cv.predict(standart_scaler_test_x))\n",
        "\n",
        "print(cv.best_params_)\n",
        "\n",
        "mlflow.log_param(\"best_params-lasso-3-with scalled data\", cv.best_params_)\n",
        "mlflow.log_metric(\"MAE-lasso-3-with scalled data\", lasso_mae)\n",
        "mlflow.log_param(\"RMSE-lasso-3-with scalled data\", lasso_rmse)\n",
        "mlflow.log_param(\"R-squared-lasso-3-with scalled data\", lasso_r2)\n",
        "\n",
        "print(f'MAE: {lasso_mae:.2f}')\n",
        "print(f'RMSE: {lasso_rmse:.2f}')\n",
        "print(f'R-squared: {lasso_r2:.2f}')"
      ]
    },
    {
      "cell_type": "code",
      "execution_count": 96,
      "metadata": {
        "colab": {
          "base_uri": "https://localhost:8080/"
        },
        "id": "poXJ1Y_4OF2k",
        "outputId": "4a16427e-6b6d-4672-9767-1139093a23a9"
      },
      "outputs": [
        {
          "name": "stdout",
          "output_type": "stream",
          "text": [
            "{'alpha': 0.9}\n",
            "MAE-1: 0.81\n",
            "RMSE-1: 1.02\n",
            "R-squared-1: 0.06\n"
          ]
        }
      ],
      "source": [
        "parameters_for_sage= {\n",
        "    'alpha':[0.1,0.3,0.5,0.7,0.9]\n",
        "}\n",
        "\n",
        "cv = GridSearchCV( Lasso(), parameters_for_sage,scoring='max_error',cv=3,n_jobs=8)\n",
        "cv.fit(train_x, train_y)\n",
        "\n",
        "lasso_mae = mean_absolute_error(test_y, cv.predict(test_x))\n",
        "lasso_rmse = mean_squared_error(test_y, cv.predict(test_x), squared=False)\n",
        "lasso_r2 = r2_score(test_y, cv.predict(test_x))\n",
        "\n",
        "print(cv.best_params_)\n",
        "\n",
        "mlflow.log_param(\"best_params-lasso-3-without scalled data\", cv.best_params_)\n",
        "mlflow.log_metric(\"MAE-lasso-3-without scalled data\", lasso_mae)\n",
        "mlflow.log_param(\"RMSE-lasso-3-without scalled data\", lasso_rmse)\n",
        "mlflow.log_param(\"R-squared-lasso-3-without scalled data\", lasso_r2)\n",
        "\n",
        "print(f'MAE-1: {lasso_mae:.2f}')\n",
        "print(f'RMSE-1: {lasso_rmse:.2f}')\n",
        "print(f'R-squared-1: {lasso_r2:.2f}')"
      ]
    },
    {
      "cell_type": "markdown",
      "metadata": {},
      "source": [
        "Polynomial Regression\n",
        "\n",
        "As the final model, I decided to use Polynomial Regression."
      ]
    },
    {
      "cell_type": "code",
      "execution_count": 129,
      "metadata": {},
      "outputs": [
        {
          "name": "stdout",
          "output_type": "stream",
          "text": [
            "MAE-1: 0.75\n",
            "RMSE-1: 0.96\n",
            "R-squared-1: 0.19\n"
          ]
        }
      ],
      "source": [
        "polynomial_model =LinearRegression()\n",
        "polynomial_model.fit(polynomial_scaler_train_x, train_y)\n",
        "\n",
        "polynomial_mae = mean_absolute_error(test_y, cv.predict(test_x))\n",
        "polynomial_rmse = mean_squared_error(test_y, cv.predict(test_x), squared=False)\n",
        "polynomial_r2 = r2_score(test_y, cv.predict(test_x))\n",
        "\n",
        "\n",
        "mlflow.log_metric(\"MAE-polynomial-features-1\", polynomial_mae)\n",
        "mlflow.log_param(\"RMSE-polynomial-features-1\", polynomial_rmse)\n",
        "mlflow.log_param(\"R-squared-polynomial-features-1\", polynomial_r2)\n",
        "\n",
        "print(f'MAE-1: {polynomial_mae:.2f}')\n",
        "print(f'RMSE-1: {polynomial_rmse:.2f}')\n",
        "print(f'R-squared-1: {polynomial_r2:.2f}')"
      ]
    },
    {
      "cell_type": "markdown",
      "metadata": {},
      "source": [
        "# Conclusion"
      ]
    },
    {
      "cell_type": "markdown",
      "metadata": {},
      "source": [
        "From the above results, it can be seen that DecisionTreeRegressor performs the best. However, both it and all the other models appear to be weak - MAE and RMSE have high values, and R^2 has a small value."
      ]
    },
    {
      "cell_type": "markdown",
      "metadata": {},
      "source": [
        "Now I will show you charts of the difference between the original and predicted values for the best models - DecisionTreeRegressor without scaled data, Ridge with scaled data, and Lasso without scaled data."
      ]
    },
    {
      "cell_type": "markdown",
      "metadata": {},
      "source": [
        "The first chart is for DecisionTreeRegressor. In this case, 62% of the prediction results have a deviation of +/- 0.5, while 84% have a deviation of +/- 1 from the 5-point rating."
      ]
    },
    {
      "cell_type": "code",
      "execution_count": 117,
      "metadata": {},
      "outputs": [
        {
          "data": {
            "image/png": "[encoded data removed]",
            "text/plain": [
              "<Figure size 640x480 with 1 Axes>"
            ]
          },
          "metadata": {},
          "output_type": "display_data"
        }
      ],
      "source": [
        "model = DecisionTreeRegressor(max_depth=14, min_samples_split=1000)\n",
        "model.fit(train_x, train_y)\n",
        "\n",
        "\n",
        "rounded_predictions = np.ceil(model.predict(test_x)*2)/2\n",
        "\n",
        "errors = test_y - rounded_predictions\n",
        "\n",
        "plt.hist(errors, bins= 'auto')\n",
        "plt.xlabel('Residuals')\n",
        "plt.ylabel('Frequency')\n",
        "plt.title('Histogram of Residuals')\n",
        "plt.ylim(0, 3500)\n",
        "plt.show()\n",
        "\n"
      ]
    },
    {
      "cell_type": "markdown",
      "metadata": {},
      "source": [
        "From the chart, we can see that the most significant factors are vote_average, user, and the popularity of the movie."
      ]
    },
    {
      "cell_type": "code",
      "execution_count": 109,
      "metadata": {},
      "outputs": [
        {
          "data": {
            "image/png": "[encoded data removed]",
            "text/plain": [
              "<Figure size 640x480 with 1 Axes>"
            ]
          },
          "metadata": {},
          "output_type": "display_data"
        }
      ],
      "source": [
        "plt.barh(model.feature_names_in_,model.feature_importances_)\n",
        "plt.xlabel('Importance')\n",
        "plt.ylabel('Feature')\n",
        "plt.title('Feature Importances')\n",
        "plt.show()"
      ]
    },
    {
      "cell_type": "code",
      "execution_count": 110,
      "metadata": {},
      "outputs": [
        {
          "data": {
            "text/html": [
              "<style>#sk-container-id-6 {color: black;}#sk-container-id-6 pre{padding: 0;}#sk-container-id-6 div.sk-toggleable {background-color: white;}#sk-container-id-6 label.sk-toggleable__label {cursor: pointer;display: block;width: 100%;margin-bottom: 0;padding: 0.3em;box-sizing: border-box;text-align: center;}#sk-container-id-6 label.sk-toggleable__label-arrow:before {content: \"▸\";float: left;margin-right: 0.25em;color: #696969;}#sk-container-id-6 label.sk-toggleable__label-arrow:hover:before {color: black;}#sk-container-id-6 div.sk-estimator:hover label.sk-toggleable__label-arrow:before {color: black;}#sk-container-id-6 div.sk-toggleable__content {max-height: 0;max-width: 0;overflow: hidden;text-align: left;background-color: #f0f8ff;}#sk-container-id-6 div.sk-toggleable__content pre {margin: 0.2em;color: black;border-radius: 0.25em;background-color: #f0f8ff;}#sk-container-id-6 input.sk-toggleable__control:checked~div.sk-toggleable__content {max-height: 200px;max-width: 100%;overflow: auto;}#sk-container-id-6 input.sk-toggleable__control:checked~label.sk-toggleable__label-arrow:before {content: \"▾\";}#sk-container-id-6 div.sk-estimator input.sk-toggleable__control:checked~label.sk-toggleable__label {background-color: #d4ebff;}#sk-container-id-6 div.sk-label input.sk-toggleable__control:checked~label.sk-toggleable__label {background-color: #d4ebff;}#sk-container-id-6 input.sk-hidden--visually {border: 0;clip: rect(1px 1px 1px 1px);clip: rect(1px, 1px, 1px, 1px);height: 1px;margin: -1px;overflow: hidden;padding: 0;position: absolute;width: 1px;}#sk-container-id-6 div.sk-estimator {font-family: monospace;background-color: #f0f8ff;border: 1px dotted black;border-radius: 0.25em;box-sizing: border-box;margin-bottom: 0.5em;}#sk-container-id-6 div.sk-estimator:hover {background-color: #d4ebff;}#sk-container-id-6 div.sk-parallel-item::after {content: \"\";width: 100%;border-bottom: 1px solid gray;flex-grow: 1;}#sk-container-id-6 div.sk-label:hover label.sk-toggleable__label {background-color: #d4ebff;}#sk-container-id-6 div.sk-serial::before {content: \"\";position: absolute;border-left: 1px solid gray;box-sizing: border-box;top: 0;bottom: 0;left: 50%;z-index: 0;}#sk-container-id-6 div.sk-serial {display: flex;flex-direction: column;align-items: center;background-color: white;padding-right: 0.2em;padding-left: 0.2em;position: relative;}#sk-container-id-6 div.sk-item {position: relative;z-index: 1;}#sk-container-id-6 div.sk-parallel {display: flex;align-items: stretch;justify-content: center;background-color: white;position: relative;}#sk-container-id-6 div.sk-item::before, #sk-container-id-6 div.sk-parallel-item::before {content: \"\";position: absolute;border-left: 1px solid gray;box-sizing: border-box;top: 0;bottom: 0;left: 50%;z-index: -1;}#sk-container-id-6 div.sk-parallel-item {display: flex;flex-direction: column;z-index: 1;position: relative;background-color: white;}#sk-container-id-6 div.sk-parallel-item:first-child::after {align-self: flex-end;width: 50%;}#sk-container-id-6 div.sk-parallel-item:last-child::after {align-self: flex-start;width: 50%;}#sk-container-id-6 div.sk-parallel-item:only-child::after {width: 0;}#sk-container-id-6 div.sk-dashed-wrapped {border: 1px dashed gray;margin: 0 0.4em 0.5em 0.4em;box-sizing: border-box;padding-bottom: 0.4em;background-color: white;}#sk-container-id-6 div.sk-label label {font-family: monospace;font-weight: bold;display: inline-block;line-height: 1.2em;}#sk-container-id-6 div.sk-label-container {text-align: center;}#sk-container-id-6 div.sk-container {/* jupyter's `normalize.less` sets `[hidden] { display: none; }` but bootstrap.min.css set `[hidden] { display: none !important; }` so we also need the `!important` here to be able to override the default hidden behavior on the sphinx rendered scikit-learn.org. See: https://github.com/scikit-learn/scikit-learn/issues/21755 */display: inline-block !important;position: relative;}#sk-container-id-6 div.sk-text-repr-fallback {display: none;}</style><div id=\"sk-container-id-6\" class=\"sk-top-container\"><div class=\"sk-text-repr-fallback\"><pre>Ridge(alpha=0.9, solver=&#x27;sag&#x27;)</pre><b>In a Jupyter environment, please rerun this cell to show the HTML representation or trust the notebook. <br />On GitHub, the HTML representation is unable to render, please try loading this page with nbviewer.org.</b></div><div class=\"sk-container\" hidden><div class=\"sk-item\"><div class=\"sk-estimator sk-toggleable\"><input class=\"sk-toggleable__control sk-hidden--visually\" id=\"sk-estimator-id-6\" type=\"checkbox\" checked><label for=\"sk-estimator-id-6\" class=\"sk-toggleable__label sk-toggleable__label-arrow\">Ridge</label><div class=\"sk-toggleable__content\"><pre>Ridge(alpha=0.9, solver=&#x27;sag&#x27;)</pre></div></div></div></div></div>"
            ],
            "text/plain": [
              "Ridge(alpha=0.9, solver='sag')"
            ]
          },
          "execution_count": 110,
          "metadata": {},
          "output_type": "execute_result"
        }
      ],
      "source": [
        "ridge = Ridge(alpha=0.9, solver='sag')\n",
        "ridge.fit(standart_scaler_train_x, train_y)"
      ]
    },
    {
      "cell_type": "markdown",
      "metadata": {},
      "source": [
        "The second chart is for Ridge. In this case, 59.5% of the prediction results have a deviation of +/- 0.5, while 72% have a deviation of +/- 1 from the 5-point rating."
      ]
    },
    {
      "cell_type": "code",
      "execution_count": 112,
      "metadata": {},
      "outputs": [
        {
          "data": {
            "image/png": "[encoded data removed]",
            "text/plain": [
              "<Figure size 640x480 with 1 Axes>"
            ]
          },
          "metadata": {},
          "output_type": "display_data"
        }
      ],
      "source": [
        "rounded_predictions = np.round(ridge.predict(standart_scaler_test_x)*2)/2\n",
        " \n",
        "errors = test_y - rounded_predictions\n",
        "\n",
        "plt.hist(errors, bins='auto' )\n",
        "plt.title('Histogram of prediction errors')\n",
        "plt.xlabel('Prediction error')\n",
        "plt.ylabel('Frequency')\n",
        "plt.ylim(0, 3500)\n",
        "plt.show()"
      ]
    },
    {
      "cell_type": "code",
      "execution_count": 113,
      "metadata": {},
      "outputs": [
        {
          "data": {
            "text/html": [
              "<style>#sk-container-id-7 {color: black;}#sk-container-id-7 pre{padding: 0;}#sk-container-id-7 div.sk-toggleable {background-color: white;}#sk-container-id-7 label.sk-toggleable__label {cursor: pointer;display: block;width: 100%;margin-bottom: 0;padding: 0.3em;box-sizing: border-box;text-align: center;}#sk-container-id-7 label.sk-toggleable__label-arrow:before {content: \"▸\";float: left;margin-right: 0.25em;color: #696969;}#sk-container-id-7 label.sk-toggleable__label-arrow:hover:before {color: black;}#sk-container-id-7 div.sk-estimator:hover label.sk-toggleable__label-arrow:before {color: black;}#sk-container-id-7 div.sk-toggleable__content {max-height: 0;max-width: 0;overflow: hidden;text-align: left;background-color: #f0f8ff;}#sk-container-id-7 div.sk-toggleable__content pre {margin: 0.2em;color: black;border-radius: 0.25em;background-color: #f0f8ff;}#sk-container-id-7 input.sk-toggleable__control:checked~div.sk-toggleable__content {max-height: 200px;max-width: 100%;overflow: auto;}#sk-container-id-7 input.sk-toggleable__control:checked~label.sk-toggleable__label-arrow:before {content: \"▾\";}#sk-container-id-7 div.sk-estimator input.sk-toggleable__control:checked~label.sk-toggleable__label {background-color: #d4ebff;}#sk-container-id-7 div.sk-label input.sk-toggleable__control:checked~label.sk-toggleable__label {background-color: #d4ebff;}#sk-container-id-7 input.sk-hidden--visually {border: 0;clip: rect(1px 1px 1px 1px);clip: rect(1px, 1px, 1px, 1px);height: 1px;margin: -1px;overflow: hidden;padding: 0;position: absolute;width: 1px;}#sk-container-id-7 div.sk-estimator {font-family: monospace;background-color: #f0f8ff;border: 1px dotted black;border-radius: 0.25em;box-sizing: border-box;margin-bottom: 0.5em;}#sk-container-id-7 div.sk-estimator:hover {background-color: #d4ebff;}#sk-container-id-7 div.sk-parallel-item::after {content: \"\";width: 100%;border-bottom: 1px solid gray;flex-grow: 1;}#sk-container-id-7 div.sk-label:hover label.sk-toggleable__label {background-color: #d4ebff;}#sk-container-id-7 div.sk-serial::before {content: \"\";position: absolute;border-left: 1px solid gray;box-sizing: border-box;top: 0;bottom: 0;left: 50%;z-index: 0;}#sk-container-id-7 div.sk-serial {display: flex;flex-direction: column;align-items: center;background-color: white;padding-right: 0.2em;padding-left: 0.2em;position: relative;}#sk-container-id-7 div.sk-item {position: relative;z-index: 1;}#sk-container-id-7 div.sk-parallel {display: flex;align-items: stretch;justify-content: center;background-color: white;position: relative;}#sk-container-id-7 div.sk-item::before, #sk-container-id-7 div.sk-parallel-item::before {content: \"\";position: absolute;border-left: 1px solid gray;box-sizing: border-box;top: 0;bottom: 0;left: 50%;z-index: -1;}#sk-container-id-7 div.sk-parallel-item {display: flex;flex-direction: column;z-index: 1;position: relative;background-color: white;}#sk-container-id-7 div.sk-parallel-item:first-child::after {align-self: flex-end;width: 50%;}#sk-container-id-7 div.sk-parallel-item:last-child::after {align-self: flex-start;width: 50%;}#sk-container-id-7 div.sk-parallel-item:only-child::after {width: 0;}#sk-container-id-7 div.sk-dashed-wrapped {border: 1px dashed gray;margin: 0 0.4em 0.5em 0.4em;box-sizing: border-box;padding-bottom: 0.4em;background-color: white;}#sk-container-id-7 div.sk-label label {font-family: monospace;font-weight: bold;display: inline-block;line-height: 1.2em;}#sk-container-id-7 div.sk-label-container {text-align: center;}#sk-container-id-7 div.sk-container {/* jupyter's `normalize.less` sets `[hidden] { display: none; }` but bootstrap.min.css set `[hidden] { display: none !important; }` so we also need the `!important` here to be able to override the default hidden behavior on the sphinx rendered scikit-learn.org. See: https://github.com/scikit-learn/scikit-learn/issues/21755 */display: inline-block !important;position: relative;}#sk-container-id-7 div.sk-text-repr-fallback {display: none;}</style><div id=\"sk-container-id-7\" class=\"sk-top-container\"><div class=\"sk-text-repr-fallback\"><pre>Lasso(alpha=0.1)</pre><b>In a Jupyter environment, please rerun this cell to show the HTML representation or trust the notebook. <br />On GitHub, the HTML representation is unable to render, please try loading this page with nbviewer.org.</b></div><div class=\"sk-container\" hidden><div class=\"sk-item\"><div class=\"sk-estimator sk-toggleable\"><input class=\"sk-toggleable__control sk-hidden--visually\" id=\"sk-estimator-id-7\" type=\"checkbox\" checked><label for=\"sk-estimator-id-7\" class=\"sk-toggleable__label sk-toggleable__label-arrow\">Lasso</label><div class=\"sk-toggleable__content\"><pre>Lasso(alpha=0.1)</pre></div></div></div></div></div>"
            ],
            "text/plain": [
              "Lasso(alpha=0.1)"
            ]
          },
          "execution_count": 113,
          "metadata": {},
          "output_type": "execute_result"
        }
      ],
      "source": [
        "lasso = Lasso(alpha=0.1)\n",
        "lasso.fit(train_x, train_y)"
      ]
    },
    {
      "cell_type": "markdown",
      "metadata": {},
      "source": [
        "The third chart is for Lasso. In this case, 28% of the prediction results have a deviation of +/- 0.5, while 45% have a deviation of +/- 1 from the 5-point rating."
      ]
    },
    {
      "cell_type": "code",
      "execution_count": 120,
      "metadata": {},
      "outputs": [
        {
          "name": "stderr",
          "output_type": "stream",
          "text": [
            "c:\\Users\\Stefan\\AppData\\Local\\Programs\\Python\\Python311\\Lib\\site-packages\\sklearn\\base.py:465: UserWarning: X does not have valid feature names, but Lasso was fitted with feature names\n",
            "  warnings.warn(\n"
          ]
        },
        {
          "data": {
            "image/png": "[encoded data removed]",
            "text/plain": [
              "<Figure size 640x480 with 1 Axes>"
            ]
          },
          "metadata": {},
          "output_type": "display_data"
        }
      ],
      "source": [
        "rounded_predictions = np.round(lasso.predict(standart_scaler_test_x)*2)/2\n",
        " \n",
        "errors = test_y - rounded_predictions\n",
        "plt.hist(errors, bins='auto')  \n",
        "plt.title('Histogram of prediction errors')\n",
        "plt.xlabel('Prediction error')\n",
        "plt.ylabel('Frequency')\n",
        "plt.ylim(0, 3500)\n",
        "plt.show()"
      ]
    },
    {
      "cell_type": "markdown",
      "metadata": {},
      "source": [
        "# Implementation"
      ]
    },
    {
      "cell_type": "markdown",
      "metadata": {},
      "source": [
        "Finally, you can try my project."
      ]
    },
    {
      "cell_type": "markdown",
      "metadata": {},
      "source": [
        "First, we will create an algorithm to search for movies similar to the name if the user misspells the name of the liked movie."
      ]
    },
    {
      "cell_type": "code",
      "execution_count": 143,
      "metadata": {},
      "outputs": [],
      "source": [
        "import Levenshtein\n",
        "\n",
        "def find_closest_movie(movie_name, movie_list):\n",
        "        closest_movie = None\n",
        "        min_distance = float('inf')\n",
        "        \n",
        "        for movie in movie_list:\n",
        "            distance = Levenshtein.distance(movie_name, movie)\n",
        "            if distance < min_distance:\n",
        "                min_distance = distance\n",
        "                closest_movie = movie\n",
        "        \n",
        "        return closest_movie"
      ]
    },
    {
      "cell_type": "markdown",
      "metadata": {},
      "source": [
        "That's it! Now you need to enter your favorite movies and give him rating, then type \"exit,\" enter a movie, and it will show you similar movies using the Jaccard metric along with their ratings from the model."
      ]
    },
    {
      "cell_type": "code",
      "execution_count": null,
      "metadata": {},
      "outputs": [],
      "source": [
        "user_id = 11111\n",
        "movies_from_user = x[0:0]\n",
        "ratings_from_user = y[0:0]\n",
        "\n",
        "movie = input('Enter your favorite movie or enter exit to exit: ')\n",
        "\n",
        "while movie != 'exit':\n",
        "    closest_movie = find_closest_movie(movie, movies['title'])\n",
        "    movie_index = np.where(movies['title'] == closest_movie)\n",
        "\n",
        "    rating = input('Enter your rating for this movie: ')\n",
        "\n",
        "    movies_from_user = pd.concat([movies_from_user, movies.iloc[movie_index[0]]], axis=0)\n",
        "    ratings_from_user.at[len(ratings_from_user)] = rating\n",
        "\n",
        "    print(ratings_from_user)\n",
        "    movie = input('Enter your favorite movie or enter exit to exit: ')\n",
        "\n",
        "movies_from_user.drop('title', axis=1, inplace=True)\n",
        "movies_from_user.drop('movieId', axis=1, inplace=True)\n",
        "movies_from_user['userId'] = user_id\n",
        "\n",
        "new_x_data = pd.concat([x, movies_from_user], axis=0)\n",
        "new_y_data = pd.concat([y, ratings_from_user], axis=0)\n",
        "\n",
        "best_model = DecisionTreeRegressor(max_depth=14, min_samples_split=1000)\n",
        "best_model.fit(new_x_data, new_y_data)\n",
        "\n",
        "movie_index = np.where(movies['title'] == closest_movie)\n",
        "\n",
        "movie = input('Enter movie to get similar movies with their rating: ')\n",
        "\n",
        "similar_movies = jaccard_similarity_df[movie_index[0]]\n",
        "\n",
        "\n",
        "for i in range(5):\n",
        "    a = x[0:0]\n",
        "\n",
        "    movie_df = movies.iloc[similar_movies.index[i]].to_frame().T\n",
        "\n",
        "    a = pd.concat([a, movie_df], axis=0)\n",
        "\n",
        "    a.drop('title', axis=1, inplace=True)\n",
        "    a.drop('movieId', axis=1, inplace=True)\n",
        "    a['userId'] = user_id\n",
        "\n",
        "    print(movies.at[similar_movies.index[i], 'title'] + '->:')\n",
        "    print(best_model.predict(movies_from_user))\n"
      ]
    },
    {
      "cell_type": "markdown",
      "metadata": {},
      "source": [
        "# Algorithms that can be used to implement recommendation systems"
      ]
    },
    {
      "cell_type": "markdown",
      "metadata": {},
      "source": [
        "Other methods through which a similar recommendation system can be achieved include collaborative filtering - User-Based Collaborative Filtering or Item-Based Collaborative Filtering, and matrix factorization."
      ]
    },
    {
      "cell_type": "markdown",
      "metadata": {},
      "source": [
        "# Thanks to tmbd"
      ]
    },
    {
      "cell_type": "markdown",
      "metadata": {
        "id": "muHzzQ8aY9n4"
      },
      "source": [
        "Thank you tmdb for letting me using your api for collecting data\n",
        "![blue_square_1-5bdc75aaebeb75dc7ae79426ddd9be3b2be1e342510f8202baf6bffa71d7f5c4.svg](data:image/svg+xml;base64,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)"
      ]
    }
  ],
  "metadata": {
    "colab": {
      "machine_shape": "hm",
      "provenance": []
    },
    "kernelspec": {
      "display_name": "Python 3",
      "name": "python3"
    },
    "language_info": {
      "codemirror_mode": {
        "name": "ipython",
        "version": 3
      },
      "file_extension": ".py",
      "mimetype": "text/x-python",
      "name": "python",
      "nbconvert_exporter": "python",
      "pygments_lexer": "ipython3",
      "version": "3.11.5"
    }
  },
  "nbformat": 4,
  "nbformat_minor": 0
}
